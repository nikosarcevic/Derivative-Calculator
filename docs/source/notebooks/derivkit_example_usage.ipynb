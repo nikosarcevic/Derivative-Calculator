{
 "cells": [
  {
   "metadata": {},
   "cell_type": "markdown",
   "source": [
    "# Example Usage: Derivative Estimation Toolkit\n",
    "\n",
    "This notebook shows how to compute numerical derivatives using the STEM method and the five-point stencil method.\n",
    "No plotting is done here — just functional evaluation and comparison.\n"
   ],
   "id": "8faeb5999845b9cc"
  },
  {
   "metadata": {
    "ExecuteTime": {
     "end_time": "2025-06-10T00:17:25.771258Z",
     "start_time": "2025-06-10T00:17:24.895174Z"
    }
   },
   "cell_type": "code",
   "source": [
    "import numpy as np\n",
    "\n",
    "from derivkit import HybridDerivativeCalculator\n"
   ],
   "id": "52e4139e39572764",
   "outputs": [],
   "execution_count": 1
  },
  {
   "metadata": {
    "ExecuteTime": {
     "end_time": "2025-06-10T00:17:25.858986Z",
     "start_time": "2025-06-10T00:17:25.854769Z"
    }
   },
   "cell_type": "code",
   "source": [
    "# Define a test function\n",
    "f = lambda x: 3 * x**2 + np.sin(x)\n",
    "\n",
    "# Point at which to evaluate the derivative\n",
    "x0 = 1.0\n",
    "\n",
    "# Initialize the calculator\n",
    "hdc = HybridDerivativeCalculator(f, x0)\n"
   ],
   "id": "aee1adb5f3746e44",
   "outputs": [],
   "execution_count": 2
  },
  {
   "metadata": {
    "ExecuteTime": {
     "end_time": "2025-06-10T00:17:26.554030Z",
     "start_time": "2025-06-10T00:17:26.545458Z"
    }
   },
   "cell_type": "code",
   "source": [
    "# Compute derivative using the five-point stencil method\n",
    "stencil_result = hdc.five_point_stencil_method()\n",
    "\n",
    "# Compute derivative using the STEM method\n",
    "stem_result = hdc.stem_method()\n",
    "\n",
    "# Print the results\n",
    "print(f\"Five-Point Stencil Result at x = {x0:.2f}: {stencil_result:.6f}\")\n",
    "print(f\"STEM Method Result at x = {x0:.2f}: {stem_result:.6f}\")\n"
   ],
   "id": "b314fdffbe8dc16",
   "outputs": [
    {
     "name": "stdout",
     "output_type": "stream",
     "text": [
      "Five-Point Stencil Result at x = 1.00: 6.540302\n",
      "STEM Method Result at x = 1.00: 6.539653\n"
     ]
    }
   ],
   "execution_count": 3
  },
  {
   "metadata": {},
   "cell_type": "markdown",
   "source": [
    "## Using STEM Method for 2D Cosmology Data Vectors\n",
    "\n",
    "In many cosmology applications, the observable data vector (e.g. angular power spectra $C_\\ell$) is multi-dimensional.\n",
    "For example, a typical $C_\\ell$ vector might have shape `(number of ells, number of spectra)` such as shear-shear,\n",
    "shear-position, and position-position correlations.\n",
    "\n",
    "To compute the derivative of this 2D data vector with respect to a parameter (e.g. $\\Omega_m$),\n",
    "we flatten the array to 1D before passing it to the `HybridDerivativeCalculator`.\n",
    "After computing the derivative, we reshape it back to the original 2D structure for interpretability.\n",
    "This derivative matrix tells us how each component of the data vector changes with small variations in the input parameter.\n"
   ],
   "id": "779ef26d38c40592"
  },
  {
   "metadata": {
    "ExecuteTime": {
     "end_time": "2025-06-10T00:17:28.275572Z",
     "start_time": "2025-06-10T00:17:28.239969Z"
    }
   },
   "cell_type": "code",
   "source": [
    "# Simulate a fake angular power spectrum C_ell data vector\n",
    "num_ells = 20  # number of multipoles\n",
    "num_spectra = 3  # e.g. shear-shear, shear-position, position-position\n",
    "ells = np.linspace(100, 2000, num_ells)\n",
    "\n",
    "# Define a fake function of Omega_m that returns a 2D (ells x spectra) power spectrum\n",
    "def fake_cl_function(omega_m):\n",
    "    # Toy model: C_ell ∝ Omega_m * f(ell), where f(ell) varies by component\n",
    "    return np.array([\n",
    "        omega_m * np.log(ell + 1) * (1 + i * 0.1)\n",
    "        for i in range(num_spectra)\n",
    "        for ell in ells\n",
    "    ]).reshape(num_ells, num_spectra)\n",
    "\n",
    "# Flatten the output since the derivative calculator expects a 1D array\n",
    "def wrapped_flattened_function(omega_m):\n",
    "    return fake_cl_function(omega_m).flatten()\n",
    "\n",
    "# Central value of Omega_m\n",
    "omega_m_central = 0.3\n",
    "\n",
    "# Initialize the derivative calculator\n",
    "calc = HybridDerivativeCalculator(wrapped_flattened_function, omega_m_central)\n",
    "\n",
    "# Compute the derivative\n",
    "stem_derivative = calc.stem_method()\n",
    "\n",
    "# Reshape the derivative back to original shape for interpretability\n",
    "stem_derivative_reshaped = stem_derivative.reshape(num_ells, num_spectra)\n",
    "\n",
    "# Print results\n",
    "print(\"STEM derivative with respect to Omega_m:\\n\")\n",
    "for i in range(num_spectra):\n",
    "    print(f\"Component {i + 1}:\")\n",
    "    print(stem_derivative_reshaped[:, i])\n",
    "    print(\"-\" * 40)\n",
    "\n"
   ],
   "id": "f8a40c8ddef914ba",
   "outputs": [
    {
     "name": "stdout",
     "output_type": "stream",
     "text": [
      "STEM derivative with respect to Omega_m:\n",
      "\n",
      "Component 1:\n",
      "[4.61512052 5.99396143 6.55250789 6.90875478 7.17088848 7.37838371\n",
      " 7.55013534 5.8336354  6.83826671 7.35444704 7.70437155 7.9694357\n",
      " 8.18286875 8.36154257 6.84853232 7.67831392 8.16420631 8.50909179\n",
      " 8.7766642  8.99531681]\n",
      "----------------------------------------\n",
      "Component 2:\n",
      "[5.30330491 6.2166061  6.68586095 7.00397414 7.24494155 7.43897159\n",
      " 7.60140233 6.27782129 7.03845443 7.48385578 7.8000008  8.04527551\n",
      " 8.24570708 5.53814462 7.19275371 7.86300946 8.29050574 8.60506617\n",
      " 8.85406046 9.06016241]\n",
      "----------------------------------------\n",
      "Component 3:\n",
      "[5.70711026 6.39859493 6.80350526 7.09090982 7.31388683 7.49609735\n",
      " 5.07663257 6.59335757 7.20775868 7.59963026 7.88797733 8.11622208\n",
      " 8.30514888 6.36396589 7.45992732 8.02303314 8.40476896 8.69392986\n",
      " 8.92676591 9.1216828 ]\n",
      "----------------------------------------\n"
     ]
    }
   ],
   "execution_count": 4
  },
  {
   "metadata": {},
   "cell_type": "code",
   "source": "",
   "id": "b957e0bcdc09bff7",
   "outputs": [],
   "execution_count": null
  }
 ],
 "metadata": {
  "kernelspec": {
   "display_name": "Python 3",
   "language": "python",
   "name": "python3"
  },
  "language_info": {
   "codemirror_mode": {
    "name": "ipython",
    "version": 2
   },
   "file_extension": ".py",
   "mimetype": "text/x-python",
   "name": "python",
   "nbconvert_exporter": "python",
   "pygments_lexer": "ipython2",
   "version": "2.7.6"
  }
 },
 "nbformat": 4,
 "nbformat_minor": 5
}
